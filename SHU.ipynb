{
  "nbformat": 4,
  "nbformat_minor": 0,
  "metadata": {
    "colab": {
      "provenance": [],
      "authorship_tag": "ABX9TyPFR3BTDsh83W7MS1AiePE4",
      "include_colab_link": true
    },
    "kernelspec": {
      "name": "python3",
      "display_name": "Python 3"
    },
    "language_info": {
      "name": "python"
    }
  },
  "cells": [
    {
      "cell_type": "markdown",
      "metadata": {
        "id": "view-in-github",
        "colab_type": "text"
      },
      "source": [
        "<a href=\"https://colab.research.google.com/github/nursedaydogdu/yetgen-anamnez-project/blob/main/SHU.ipynb\" target=\"_parent\"><img src=\"https://colab.research.google.com/assets/colab-badge.svg\" alt=\"Open In Colab\"/></a>"
      ]
    },
    {
      "cell_type": "code",
      "execution_count": 1,
      "metadata": {
        "colab": {
          "base_uri": "https://localhost:8080/"
        },
        "id": "z6b7GfjdL1QH",
        "outputId": "2f1d6b0d-013b-4803-c484-f35b95c893df"
      },
      "outputs": [
        {
          "output_type": "stream",
          "name": "stdout",
          "text": [
            "Hastalık Tahmin Sistemi\n",
            "Hasta adınızı girin: Seda\n",
            "Hasta soyadınızı girin: Aydoğdu\n",
            "Hasta cinsiyetinizi girin: Kadın\n",
            "Hasta yaşınızı girin: 22\n",
            "Lütfen semptomları virgülle ayırarak girin (Çıkmak için 'q' tuşuna basın): common cold, vomiting\n",
            "\n",
            "Tahmin edilen hastalıklar:\n",
            "- GERD\n",
            "- Chronic cholestasis\n",
            "- Peptic ulcer diseae\n",
            "- Gastroenteritis\n",
            "- Paralysis (brain hemorrhage)\n",
            "- Jaundice\n",
            "- Malaria\n",
            "- hepatitis A\n",
            "- Hepatitis D\n",
            "- Heart attack\n",
            "- Hypoglycemia\n",
            "Lütfen semptomları virgülle ayırarak girin (Çıkmak için 'q' tuşuna basın): q\n",
            "Çıkılıyor. İyi günler!\n"
          ]
        }
      ],
      "source": [
        "class DiseasePredictor:\n",
        "    def __init__(self):\n",
        "        # Hastalıklar ve semptomları\n",
        "        self.diseases = {\n",
        "            \"Fungal infection\": [\"itching\", \"skin_rash\", \"nodal_skin_eruptions\", \"dischromic _patches\"],\n",
        "            \"Allergy\": [\"continuous_sneezing\", \"shivering\",\"chills\", \"watering_from_eyes\"],\n",
        "            \"GERD\": [\"stomach_pain\", \"acidity\", \"ulcers_on_tongue\", \"vomiting\", \"cough\", \"chest_pain\"],\n",
        "            \"Chronic cholestasis\": [\"itching\", \"vomiting\", \"yellowish_skin\", \"nausea\", \"loss_of_appetite\", \"abdominal_pain\", \"yellowing_of_eyes\"],\n",
        "            \"Drug Reaction\": [\"itching\", \"skin_rash\",\t\"stomach_pain\",\t\"burning_micturition\", \"spotting_ urination\"],\n",
        "            \"Peptic ulcer diseae\": [\"vomiting\", \"loss_of_appetite\",\t\"abdominal_pain\", \"passage_of_gases\",\t\"internal_itching\"],\n",
        "            \"AIDS\": [\"muscle_wasting\", \"patches_in_throat\", \"high_fever\",\t\"extra_marital_contacts\"],\n",
        "            \"Diabetes\": [\"fatigue\t weight_loss\", \"restlessness\",\t\"lethargy\",\t\"irregular_sugar_level\",\t\"blurred_and_distorted_vision\", \"obesity\",\t\"excessive_hunger\",\t\"increased_appetite\",\t\"polyuria\"],\n",
        "            \"Gastroenteritis\": [\"vomiting\", \"sunken_eyes\", \"dehydration\",\t\"diarrhoea\"],\n",
        "            \"Bronchial Asthma\": [\"fatigue\", \"cough\", \"high_fever\", \"breathlessness\", \"family_history\", \"mucoid_sputum\"],\n",
        "            \"Hypertension\": [\"headache\", \"chest_pain\", \"dizziness\",\t\"loss_of_balance\", \"lack_of_concentration\"],\n",
        "            \"Migraine\": [\"acidity\t indigestion\", \"headache\", \"blurred_and_distorted_vision\",\t\"excessive_hunger\",\t\"stiff_neck\",\t\"depression\",\t\"irritability\",\t\"visual_disturbances\"],\n",
        "            \"Cervical spondylosis\": [\"back_pain\", \"weakness_in_limbs\", \"neck_pain\t dizziness\", \"loss_of_balance\"],\n",
        "            \"Paralysis (brain hemorrhage)\": [\"vomiting\", \"headache\",\t\"weakness_of_one_body_side\", \"altered_sensorium\"],\n",
        "            \"Jaundice\": [\"itching\",\t\"vomiting\",\t\"fatigue\", \"weight_loss\", \"high_fever\",\t \"yellowish_skin\", \"dark_urine\", \"abdominal_pain\"],\n",
        "            \"Malaria\": [\"chills\",\t\"vomiting\", \"high_fever\",\t\"sweating\",\t\"headache\",\t\"nausea\",\t\"muscle_pain\"],\n",
        "            \"hepatitis A\": [\"joint_pain\",\t\"vomiting\",\t\"yellowish_skin\", \"dark_urine\",\t\"nausea\",\t\"loss_of_appetite\",\t\"abdominal_pain\",\t\"diarrhoea\", \"mild_fever\", \"yellowing_of_eyes\",\t\"muscle_pain\"],\n",
        "            \"Hepatitis B\": [\"itching\", \"fatigue\",\t\"lethargy\",\t\"yellowish_skin\",\t\"dark_urine\",\t\"loss_of_appetite\",\t\"abdominal_pain\", \"yellow_urine\",\t \"yellowing_of_eyes\",\t \"malaise\",\t \"receiving_blood_transfusion\",\t\"receiving_unsterile_injections\"],\n",
        "            \"Hepatitis C\": [\"fatigue\", \"yellowish_skin\",  \"nausea\",\t\"loss_of_appetite\",\t\"family_history\"],\n",
        "            \"Hepatitis D\": [\"joint_pain\",\t\"vomiting\",\t\"fatigue\", \"yellowish_skin\", \"dark_urine\", \"nausea\", \"loss_of_appetite\", \"abdominal_pain\", \"yellowing_of_eyes\"],\n",
        "            \"Common Cold\": [\"continuous_sneezing\",\t\"chills\",\t \"fatigue\",\t \"cough\",\t\"high_fever\",\t\"headache\",\t\"swelled_lymph_nodes\",\t\"malaise\",\t\"phlegm\",\t\"throat_irritation\", \"redness_of_eyes\",\t\"sinus_pressure\",\t\"runny_nose\",\t\"congestion\",\t\"chest_pain\",\t\"loss_of_smell\",\t\"muscle_pain\"],\n",
        "            \"Pneumonia\": [\"chills\",\t\"fatigue\", \"cough\",\t\"high_fever\",\t\"breathlessness\",\t\"sweating\",\t\"malaise\", \"chest_pain\", \"fast_heart_rate\",\t\"rusty_sputum\"],\n",
        "            \"Heart attack\": [\"vomiting\", \"breathlessness\",\t\"sweating\",\t \"chest_pain\"],\n",
        "            \"Hypothyroidism\": [\"fatigue\", \"weight_gain\", \"cold_hands_and_feets\", \"mood_swings\",\t\"lethargy\",\t\"dizziness\", \"puffy_face_and_eyes\",\t\"enlarged_thyroid\",\t \"brittle_nails\",\t\"swollen_extremeties\", \"depression\", \"irritability\", \"abnormal_menstruation\"],\n",
        "            \"Hyperthyroidism\": [\"fatigue\", \"mood_swings\",\t\"weight_loss\",\t\"restlessness\",\t\"sweating\",\t\"diarrhoea\",\t\"fast_heart_rate\",\"excessive_hunger\",\t \"muscle_weakness\",\t \"irritability\",\t \"abnormal_menstruation\"],\n",
        "            \"Hypoglycemia\": [\"vomiting\", \"fatigue\",\t\"anxiety\", \"sweating\", \"headache\",\t\"nausea\",\t \"blurred_and_distorted_vision\",\t \"excessive_hunger\",\t\"slurred_speech\",\t \"irritability\",\t\"palpitations\"],\n",
        "            \"Osteoarthristis\": [\"joint_pain\",\t\"neck_pain\", \"knee_pain\",\t\"hip_joint_pain\",\t\"swelling_joints\", \"painful_walking\"],\n",
        "            \"Arthritis\": [\"muscle_weakness\", \"stiff_neck\", \"swelling_joints\", \"movement_stiffness\",\t\"painful_walking\"],\n",
        "            \"Urinary tract infection\": [\"burning_micturition\",\t\"bladder_discomfort\",\t \"foul_smell_of_urine\",\t \"continuous_feel_of_urine\"],\n",
        "            \"Psoriasis\": [\"skin_rash\", \"joint_pain\",\t\"skin_peeling\",\t\"silver_like_dusting\", \"small_dents_in_nails\", \"inflammatory_nails\"],\n",
        "        }\n",
        "\n",
        "    def predict_disease(self, symptoms):\n",
        "        matched_diseases = []\n",
        "\n",
        "        for disease, disease_symptoms in self.diseases.items():\n",
        "            # Hastalığın semptomları ile giriş semptomları arasındaki ortaklık sayısı\n",
        "            match_count = len(set(symptoms).intersection(set(disease_symptoms)))\n",
        "\n",
        "            # Herhangi bir ortak semptom varsa hastalığı ekleyin\n",
        "            if match_count > 0:\n",
        "                matched_diseases.append(disease)\n",
        "\n",
        "        return matched_diseases\n",
        "\n",
        "\n",
        "\n",
        "\n",
        "\n",
        "# Geri kalan kod\n",
        "def get_patient_info():\n",
        "    name = input(\"Hasta adınızı girin: \")\n",
        "    surname = input(\"Hasta soyadınızı girin: \")\n",
        "    gender = input(\"Hasta cinsiyetinizi girin: \")\n",
        "    age = int(input(\"Hasta yaşınızı girin: \"))\n",
        "\n",
        "    return {\"name\": name, \"surname\": surname, \"gender\": gender, \"age\": age}\n",
        "\n",
        "def main():\n",
        "    predictor = DiseasePredictor()\n",
        "\n",
        "    print(\"Hastalık Tahmin Sistemi\")\n",
        "\n",
        "    # Hasta bilgilerini al\n",
        "    patient_info = get_patient_info()\n",
        "\n",
        "    while True:\n",
        "        user_input = input(\"Lütfen semptomları virgülle ayırarak girin (Çıkmak için 'q' tuşuna basın): \")\n",
        "\n",
        "        if user_input.lower() == 'q':\n",
        "            print(\"Çıkılıyor. İyi günler!\")\n",
        "            break\n",
        "\n",
        "        input_symptoms = [symptom.strip() for symptom in user_input.split(',')]\n",
        "        predicted_diseases = predictor.predict_disease(input_symptoms)\n",
        "\n",
        "        if predicted_diseases:\n",
        "            print(\"\\nTahmin edilen hastalıklar:\")\n",
        "            for disease in predicted_diseases:\n",
        "                print(f\"- {disease}\")\n",
        "        else:\n",
        "            print(\"\\nEşleşen hastalık bulunamadı.\")\n",
        "\n",
        "if __name__ == \"__main__\":\n",
        "    main()\n"
      ]
    }
  ]
}